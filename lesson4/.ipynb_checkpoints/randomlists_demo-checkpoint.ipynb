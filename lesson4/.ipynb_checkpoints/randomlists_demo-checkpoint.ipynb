{
 "cells": [
  {
   "cell_type": "markdown",
   "metadata": {},
   "source": [
    "# The Random Module\n",
    "\n",
    "Python incorporates many modules, which organize related classes and functions.  In this demo, we'll use the [random module](https://docs.python.org/3/library/random.html), which provides a pseudo-random generator and allows us to simulate different distributions."
   ]
  },
  {
   "cell_type": "code",
   "execution_count": null,
   "metadata": {
    "collapsed": true
   },
   "outputs": [],
   "source": [
    "# The import command loads the functions from the random module\n",
    "\n",
    "import random"
   ]
  },
  {
   "cell_type": "code",
   "execution_count": null,
   "metadata": {},
   "outputs": [],
   "source": [
    "# The randrange function returns an integer in range(a,b).\n",
    "# Here we ask for a random integer n, where 1 <= n <= 10.\n",
    "\n",
    "random.randrange(1,11)"
   ]
  },
  {
   "cell_type": "code",
   "execution_count": null,
   "metadata": {},
   "outputs": [],
   "source": [
    "# We use a for loop and the randrange command to create a list of 10 integers\n",
    "\n",
    "random_list = []\n",
    "for i in range(10):\n",
    "    random_list.append(random.randrange(1,11))\n",
    "print(random_list)"
   ]
  },
  {
   "cell_type": "code",
   "execution_count": null,
   "metadata": {},
   "outputs": [],
   "source": [
    "# We could also do this in a more compact way, using a structure \n",
    "# called a list comprehension.  You’ll learn more about these in lesson 5.\n",
    "\n",
    "random_list_2 = [random.randrange(1,11) for i in range(10)]\n",
    "print(random_list_2)"
   ]
  },
  {
   "cell_type": "code",
   "execution_count": null,
   "metadata": {},
   "outputs": [],
   "source": [
    "# We double-check that random_list really has 10 elements in it\n",
    "len(random_list)"
   ]
  },
  {
   "cell_type": "code",
   "execution_count": null,
   "metadata": {},
   "outputs": [],
   "source": [
    "# The sort() function will sort our list in ascending order.\n",
    "\n",
    "random_list.sort()\n",
    "random_list"
   ]
  },
  {
   "cell_type": "code",
   "execution_count": null,
   "metadata": {},
   "outputs": [],
   "source": [
    "# Let's compute the median of our sorted list by hand.\n",
    "# Remember that list indexing starts at 0.\n",
    "\n",
    "(random_list[4]+random_list[5])/2"
   ]
  },
  {
   "cell_type": "markdown",
   "metadata": {},
   "source": [
    "## The numpy module\n",
    "\n",
    "The [```numpy``` module](http://www.numpy.org/) includes many useful numerical functions.  Let's import this module so we can compute the mean and median of the numbers in our list automatically."
   ]
  },
  {
   "cell_type": "code",
   "execution_count": null,
   "metadata": {},
   "outputs": [],
   "source": [
    "# We use the as command to abbreviate the name of the numpy module\n",
    "import numpy as np"
   ]
  },
  {
   "cell_type": "code",
   "execution_count": null,
   "metadata": {},
   "outputs": [],
   "source": [
    "np.mean(random_list)"
   ]
  },
  {
   "cell_type": "code",
   "execution_count": null,
   "metadata": {},
   "outputs": [],
   "source": [
    "np.median(random_list)"
   ]
  },
  {
   "cell_type": "markdown",
   "metadata": {},
   "source": [
    "## ACT Scores\n",
    "\n",
    "For the 2001 high school graduating class, the mean ACT score was 21 and the standard deviation was 4.7.  The lowest possible ACT composite score is 0, and the highest possible ACT composite score is 36.  Let's use this information to generate a possible ACT score."
   ]
  },
  {
   "cell_type": "code",
   "execution_count": null,
   "metadata": {},
   "outputs": [],
   "source": [
    "# ACT scores should be integers\n",
    "\n",
    "act = int(random.normalvariate(21, 4.7))\n",
    "if act<0:\n",
    "    act=0\n",
    "if act>36:\n",
    "    act = 36\n",
    "print(act)"
   ]
  },
  {
   "cell_type": "code",
   "execution_count": null,
   "metadata": {},
   "outputs": [],
   "source": [
    "# We make a list of 10 ACT scores\n",
    "\n",
    "act_list = []\n",
    "for i in range(10):\n",
    "    act = int(random.normalvariate(21, 4.7))\n",
    "    if act<0:\n",
    "        act=0\n",
    "    if act>36:\n",
    "        act = 36\n",
    "    act_list.append(act)\n",
    "print(act_list)"
   ]
  },
  {
   "cell_type": "code",
   "execution_count": null,
   "metadata": {},
   "outputs": [],
   "source": [
    "# We can use a list comprehension to make a new list, containing the difference from the mean for each ACT score\n",
    "\n",
    "act_diff = [act-21 for act in act_list]\n",
    "print(act_diff)"
   ]
  },
  {
   "cell_type": "code",
   "execution_count": null,
   "metadata": {},
   "outputs": [],
   "source": [
    "# We use another list comprehension to select the negative differences\n",
    "\n",
    "[diff for diff in act_diff if diff<0]"
   ]
  },
  {
   "cell_type": "code",
   "execution_count": null,
   "metadata": {
    "collapsed": true
   },
   "outputs": [],
   "source": []
  }
 ],
 "metadata": {
  "kernelspec": {
   "display_name": "Python 3",
   "language": "python",
   "name": "python3"
  },
  "language_info": {
   "codemirror_mode": {
    "name": "ipython",
    "version": 3
   },
   "file_extension": ".py",
   "mimetype": "text/x-python",
   "name": "python",
   "nbconvert_exporter": "python",
   "pygments_lexer": "ipython3",
   "version": "3.6.4"
  }
 },
 "nbformat": 4,
 "nbformat_minor": 1
}
