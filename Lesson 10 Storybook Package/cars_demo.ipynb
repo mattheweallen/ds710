{
 "cells": [
  {
   "cell_type": "markdown",
   "metadata": {},
   "source": [
    "# Upgrading Cars\n",
    "\n",
    "This demo uses the ```Cars 2005.csv``` data set we first saw in Week 2."
   ]
  },
  {
   "cell_type": "code",
   "execution_count": null,
   "metadata": {},
   "outputs": [],
   "source": [
    "import pandas as pd"
   ]
  },
  {
   "cell_type": "code",
   "execution_count": null,
   "metadata": {},
   "outputs": [],
   "source": [
    "cars_df = pd.read_csv('Cars 2005.csv')\n",
    "cars_df"
   ]
  },
  {
   "cell_type": "markdown",
   "metadata": {},
   "source": [
    "We want to identify all of the cars with at least one upgrade."
   ]
  },
  {
   "cell_type": "code",
   "execution_count": null,
   "metadata": {
    "collapsed": true
   },
   "outputs": [],
   "source": [
    "# We define a function to test whether a row represents a car with an upgrade\n",
    "\n",
    "def has_upgrade(row):\n",
    "    \"\"\" return True if a row represents a car with Cruise, Sound, or Leather upgrade\"\"\"\n",
    "    \n",
    "    if row['Cruise'] > 0 or row['Sound']>0 or row['Leather']>0:\n",
    "        return True\n",
    "    else:\n",
    "        return False"
   ]
  },
  {
   "cell_type": "markdown",
   "metadata": {},
   "source": [
    "A naive way to test whether each car has an upgrade is to iterate through each row in our data frame.  We do so using the ```iterrows()``` function and a list comprehension.  Notice that ```iterrows()``` returns two values: the row index, and the actual data contained in the row."
   ]
  },
  {
   "cell_type": "code",
   "execution_count": null,
   "metadata": {},
   "outputs": [],
   "source": [
    "def upgrade_list(df):\n",
    "    \"\"\" return a list of upgrade status for each row in a data frame \"\"\"\n",
    "    \n",
    "    return [has_upgrade(row) for index,row in df.iterrows()]"
   ]
  },
  {
   "cell_type": "markdown",
   "metadata": {},
   "source": [
    "We use the ```time``` command to see how long our loop takes."
   ]
  },
  {
   "cell_type": "code",
   "execution_count": null,
   "metadata": {},
   "outputs": [],
   "source": [
    "%%time\n",
    "print(upgrade_list(cars_df))"
   ]
  },
  {
   "cell_type": "markdown",
   "metadata": {},
   "source": [
    "We can try our loop several times using the %timeit magic command.  When used with a single percent sign, this command will time everything that follows it on the same line of code. "
   ]
  },
  {
   "cell_type": "code",
   "execution_count": null,
   "metadata": {},
   "outputs": [],
   "source": [
    "%timeit upgrade_list(cars_df)"
   ]
  },
  {
   "cell_type": "markdown",
   "metadata": {},
   "source": [
    "When used with two percent signs, this command will time everything in the same code cell.  This command must be the first thing in the code cell."
   ]
  },
  {
   "cell_type": "code",
   "execution_count": null,
   "metadata": {},
   "outputs": [],
   "source": [
    "# Delete this comment so that %%timeit will work.\n",
    "%%timeit\n",
    "upgrade_list(cars_df)"
   ]
  },
  {
   "cell_type": "markdown",
   "metadata": {},
   "source": [
    "We can avoid iterating through the rows by using the built-in ```apply``` function for data frames."
   ]
  },
  {
   "cell_type": "code",
   "execution_count": null,
   "metadata": {},
   "outputs": [],
   "source": [
    "%%timeit \n",
    "cars_df.apply(has_upgrade,axis=1)"
   ]
  },
  {
   "cell_type": "markdown",
   "metadata": {},
   "source": [
    "Pandas has built-in functionality which allows us to select a subset of a data frame.  Run the code cell below to use this functionality to identify the cars with at least one upgrade."
   ]
  },
  {
   "cell_type": "code",
   "execution_count": null,
   "metadata": {},
   "outputs": [],
   "source": [
    "%%timeit\n",
    "cars_df[(cars_df['Cruise']>0) | (cars_df['Sound']>0) | (cars_df['Leather']>0)]"
   ]
  },
  {
   "cell_type": "code",
   "execution_count": null,
   "metadata": {
    "collapsed": true
   },
   "outputs": [],
   "source": []
  }
 ],
 "metadata": {
  "kernelspec": {
   "display_name": "Python 3",
   "language": "python",
   "name": "python3"
  },
  "language_info": {
   "codemirror_mode": {
    "name": "ipython",
    "version": 3
   },
   "file_extension": ".py",
   "mimetype": "text/x-python",
   "name": "python",
   "nbconvert_exporter": "python",
   "pygments_lexer": "ipython3",
   "version": "3.6.4"
  }
 },
 "nbformat": 4,
 "nbformat_minor": 1
}
