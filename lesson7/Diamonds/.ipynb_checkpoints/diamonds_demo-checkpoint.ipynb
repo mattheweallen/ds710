{
 "cells": [
  {
   "cell_type": "markdown",
   "metadata": {},
   "source": [
    "# A set of diamonds\n",
    "\n",
    "The data set ```diamonds.txt``` contains data on the characteristics of diamonds and their prices.  There are 5 levels of clarity in the data.  From clearest to least clear, they are IF, VVS1, VVS2, VS1, and VS2.\n",
    "\n",
    "* IF = Internally Flawless\n",
    "* VVS = Very, very slight inclusions\n",
    "* VS = Very slight inclusions\n",
    "\n",
    "We want to write a function to count the number of diamonds of each type.  Later in the course, we'll discuss how to use libraries for this type of analysis in Python.  For now, we'll ignore much of the structure of diamonds.txt , and just treat it as a text file without any other organization.\n",
    "\n",
    "Of course, you'll need to have ```diamonds.txt``` in the same directory as this notebook to run the demo."
   ]
  },
  {
   "cell_type": "code",
   "execution_count": null,
   "metadata": {},
   "outputs": [],
   "source": [
    "# Read the data in diamonds.txt as a string\n",
    "\n",
    "with open(\"diamonds.txt\") as diamond_file:\n",
    "    diamond_string = diamond_file.read()"
   ]
  },
  {
   "cell_type": "markdown",
   "metadata": {},
   "source": [
    "We follow the [```numpy``` standard for documentation strings](https://github.com/numpy/numpy/blob/master/doc/HOWTO_DOCUMENT.rst.txt#docstring-standard)."
   ]
  },
  {
   "cell_type": "code",
   "execution_count": null,
   "metadata": {},
   "outputs": [],
   "source": [
    "def clarity_count(s, clarity):\n",
    "    \n",
    "    \"\"\"\n",
    "    Return the number of instances of the indicated diamond clarity in the given string.\n",
    "    \n",
    "    Parameters\n",
    "    ----------\n",
    "    s: str\n",
    "    A string containing the description of some diamonds.\n",
    "    \n",
    "    clarity: int\n",
    "    An integer between 0 and 4 (inclusive)\n",
    "    0 indicates 'IF', 1 is 'VVS1', 2 is 'VVS2', 3 is 'VS1', and 4 is 'VS2'\n",
    "    \n",
    "    Returns\n",
    "    -------\n",
    "    clar_count: int\n",
    "    Number of instances of diamond clarity.\n",
    "    \"\"\"\n",
    "    \n",
    "    clar_string_list = ['IF', 'VVS1', 'VVS2', 'VS1', 'VS2']\n",
    "    clar_count = s.count(clar_string_list[clarity])\n",
    "    return clar_count"
   ]
  },
  {
   "cell_type": "code",
   "execution_count": null,
   "metadata": {
    "collapsed": true
   },
   "outputs": [],
   "source": [
    "# We can use the ? to display the docstring for the function.\n",
    "\n",
    "clarity_count?"
   ]
  },
  {
   "cell_type": "code",
   "execution_count": null,
   "metadata": {},
   "outputs": [],
   "source": [
    "# We test our function on a short string\n",
    "\n",
    "clarity_count(\"IF VVS1 IF\", 0)"
   ]
  },
  {
   "cell_type": "code",
   "execution_count": null,
   "metadata": {},
   "outputs": [],
   "source": [
    "# How often does \"IF\" appear in diamonds.txt?\n",
    "\n",
    "clarity_count(diamond_string, 0)"
   ]
  },
  {
   "cell_type": "code",
   "execution_count": null,
   "metadata": {},
   "outputs": [],
   "source": [
    "# How often does each clarity level appear in diamonds.txt?\n",
    "\n",
    "for i in range(5):\n",
    "    print(clarity_count(diamond_string, i))"
   ]
  },
  {
   "cell_type": "markdown",
   "metadata": {},
   "source": [
    "Let's improve our ```clarity_count()``` function in two ways: we'll add a default clarity of 0, and we'll display an error message if the specified clarity number is not an integer between 0 and 4.\n",
    "\n",
    "Note that Python incorporates sophisticated error-checking functionality.  The method we use here is appropriate for informal data analysis, but not for production code."
   ]
  },
  {
   "cell_type": "code",
   "execution_count": null,
   "metadata": {
    "collapsed": true
   },
   "outputs": [],
   "source": [
    "def improved_clarity_count(s, clarity=0):\n",
    "    \n",
    "    \"\"\"\n",
    "    Return the number of instances of the indicated diamond clarity in the given string.\n",
    "    \n",
    "    Parameters\n",
    "    ----------\n",
    "    s: str\n",
    "    A string containing the description of some diamonds.\n",
    "    \n",
    "    clarity: int\n",
    "    An integer between 0 and 4 (inclusive).  Default value is 0.\n",
    "    0 indicates 'IF', 1 is 'VVS1', 2 is 'VVS2', 3 is 'VS1', and 4 is 'VS2'\n",
    "    \n",
    "    Returns\n",
    "    -------\n",
    "    clar_count: int\n",
    "    Number of instances of diamond clarity.\n",
    "    \"\"\"\n",
    "    \n",
    "    if type(clarity)!= int:\n",
    "        print(\"Warning: clarity must be an integer.\")\n",
    "        return\n",
    "    \n",
    "    if clarity<0 or clarity>4:\n",
    "        print(\"Warning: clarity must be between 0 and 4, inclusive\")\n",
    "        return\n",
    "    \n",
    "    clar_string_list = ['IF', 'VVS1', 'VVS2', 'VS1', 'VS2']\n",
    "    clar_count = s.count(clar_string_list[clarity])\n",
    "    return clar_count"
   ]
  },
  {
   "cell_type": "code",
   "execution_count": null,
   "metadata": {},
   "outputs": [],
   "source": [
    "improved_clarity_count(\"IF IF IF\")"
   ]
  },
  {
   "cell_type": "code",
   "execution_count": null,
   "metadata": {},
   "outputs": [],
   "source": [
    "improved_clarity_count(\"IF IF IF\", 7)"
   ]
  },
  {
   "cell_type": "code",
   "execution_count": null,
   "metadata": {},
   "outputs": [],
   "source": [
    "improved_clarity_count(\"IF IF IF\", \"I like cats\")"
   ]
  },
  {
   "cell_type": "code",
   "execution_count": null,
   "metadata": {},
   "outputs": [],
   "source": [
    "n = improved_clarity_count(\"IF IF IF\", \"I like cats\")\n",
    "print(n)"
   ]
  },
  {
   "cell_type": "markdown",
   "metadata": {},
   "source": [
    "# Lambda Functions\n",
    "\n",
    "Python allows us to create \"lambda functions\".  These are anonymous functions, where we don't store the function name.  Lambda functions can be useful if we want to apply a short function to all elements of a list or other data structure."
   ]
  },
  {
   "cell_type": "markdown",
   "metadata": {},
   "source": [
    "To demonstrate lambda functions, we need to create a list to work with.\n",
    "\n",
    "In Python, it's easy to iterate over the lines of a file.  Doing so makes it easier to plan for working with large files."
   ]
  },
  {
   "cell_type": "code",
   "execution_count": null,
   "metadata": {},
   "outputs": [],
   "source": [
    "# Make a list of the items in the diamonds.txt file\n",
    "diamond_list = []\n",
    "with open(\"diamonds.txt\") as diamond_file:\n",
    "    for line in diamond_file:\n",
    "        diamond_list.append(line.split())\n",
    "\n",
    "# display the first few lines of the resulting list\n",
    "diamond_list[0:10]"
   ]
  },
  {
   "cell_type": "code",
   "execution_count": null,
   "metadata": {},
   "outputs": [],
   "source": [
    "# drop the \"title\" portion of the list\n",
    "diamond_list.pop(0)\n",
    "diamond_list[0:10]"
   ]
  },
  {
   "cell_type": "code",
   "execution_count": null,
   "metadata": {},
   "outputs": [],
   "source": [
    "# Use a list comprehension to create a list of the carats in each diamond.\n",
    "# Note that the eval command converts a string to a number.\n",
    "\n",
    "carat_list = [eval(d[0]) for d in diamond_list]\n",
    "print(carat_list)"
   ]
  },
  {
   "cell_type": "markdown",
   "metadata": {},
   "source": [
    "The points $p$ of a diamond are related to its carats $c$ by $p = 100c$.\n",
    "\n",
    "We use a lambda function and the ```map``` command to convert our list of carats to a list of points."
   ]
  },
  {
   "cell_type": "code",
   "execution_count": null,
   "metadata": {},
   "outputs": [],
   "source": [
    "point_list = list(map(lambda c: 100*c, carat_list))\n",
    "print(point_list)"
   ]
  },
  {
   "cell_type": "markdown",
   "metadata": {},
   "source": [
    "We could have created the same list using a list comprehension."
   ]
  },
  {
   "cell_type": "code",
   "execution_count": null,
   "metadata": {},
   "outputs": [],
   "source": [
    "print([100*c for c in carat_list])"
   ]
  },
  {
   "cell_type": "markdown",
   "metadata": {},
   "source": [
    "One difference between the lambda function and the list comprehension is that using ```map``` with the lambda function returned an iterator (which we then converted to a list using the ```list``` command), while a list comprehension directly returns a list.  When we make a list, we have to store the whole thing in memory, which may be problematic if we have a lot of data."
   ]
  },
  {
   "cell_type": "code",
   "execution_count": null,
   "metadata": {},
   "outputs": [],
   "source": [
    "# Let's extract the diamonds with less than 100 points in two ways.\n",
    "# First we use the filter command.\n",
    "# Note that our lambda function here returns a boolean value, True or False\n",
    "\n",
    "print(list(filter(lambda x: x<100, point_list)))"
   ]
  },
  {
   "cell_type": "code",
   "execution_count": null,
   "metadata": {},
   "outputs": [],
   "source": [
    "# Next we use a list comprehension.\n",
    "print([x for x in point_list if x<100])"
   ]
  },
  {
   "cell_type": "code",
   "execution_count": null,
   "metadata": {
    "collapsed": true
   },
   "outputs": [],
   "source": []
  }
 ],
 "metadata": {
  "kernelspec": {
   "display_name": "Python 3",
   "language": "python",
   "name": "python3"
  },
  "language_info": {
   "codemirror_mode": {
    "name": "ipython",
    "version": 3
   },
   "file_extension": ".py",
   "mimetype": "text/x-python",
   "name": "python",
   "nbconvert_exporter": "python",
   "pygments_lexer": "ipython3",
   "version": "3.6.4"
  }
 },
 "nbformat": 4,
 "nbformat_minor": 1
}
