{
 "cells": [
  {
   "cell_type": "markdown",
   "metadata": {},
   "source": [
    "# Control Flow in Python\n",
    "\n",
    "This notebook demonstrates some essential concepts of control flow in Python.  Try the code below."
   ]
  },
  {
   "cell_type": "markdown",
   "metadata": {},
   "source": [
    "# For Loops"
   ]
  },
  {
   "cell_type": "code",
   "execution_count": null,
   "metadata": {},
   "outputs": [],
   "source": [
    "# Can you predict the difference in the outputs of the following two for loops?\n",
    "\n",
    "print(\"range(10)\")\n",
    "for i in range(10):\n",
    "    print(i)\n",
    "\n",
    "print(\"range(1,10)\")\n",
    "for i in range(1,10):\n",
    "    print(i)"
   ]
  },
  {
   "cell_type": "code",
   "execution_count": null,
   "metadata": {},
   "outputs": [],
   "source": [
    "# Python allows us to iterate over elements of all sorts of different data types.\n",
    "# Here, we iterate over each character in a string.\n",
    "\n",
    "for c in \"abcdefghijklmnop\":\n",
    "    print(c,\"is for\",c+c+c+c+\"!\")"
   ]
  },
  {
   "cell_type": "code",
   "execution_count": null,
   "metadata": {},
   "outputs": [],
   "source": [
    "# Python can also iterate over lists.  This is similar to iterating over vectors in R.\n",
    "\n",
    "friends = [\"Caitlin\", \"Jonathan\", \"Gwen\"]\n",
    "\n",
    "for person in friends:\n",
    "    print(person, \"is my friend.\")"
   ]
  },
  {
   "cell_type": "code",
   "execution_count": null,
   "metadata": {},
   "outputs": [],
   "source": [
    "# We can exit a loop by using the break command.\n",
    "# Can you predict the result of the following code?\n",
    "\n",
    "for i in range(10):\n",
    "    if i*i == 25: \n",
    "        break\n",
    "    print(i*i)"
   ]
  },
  {
   "cell_type": "markdown",
   "metadata": {},
   "source": [
    "# While Loops"
   ]
  },
  {
   "cell_type": "code",
   "execution_count": null,
   "metadata": {},
   "outputs": [],
   "source": [
    "# Here is a while loop which produces the same output as the for loop above.\n",
    "\n",
    "i = 0\n",
    "\n",
    "while i*i != 25:\n",
    "    print(i*i)\n",
    "    i = i+1"
   ]
  },
  {
   "cell_type": "markdown",
   "metadata": {
    "collapsed": true
   },
   "source": [
    "## The Collatz Conjecture.\n",
    "\n",
    "Let's try a more complicated problem.  Suppose you start with a positive integer, and follow the following procedure:\n",
    "\n",
    "*    If the number is even, divide it by two.\n",
    "*    If the number is odd, triple it and add one.\n",
    "\n",
    "The Collatz Conjecture states that this procedure will always eventually reach 1.  The following code tests a number to see whether it obeys the Collatz Conjecture."
   ]
  },
  {
   "cell_type": "code",
   "execution_count": null,
   "metadata": {},
   "outputs": [],
   "source": [
    "n = 13 # enter your favorite number here!\n",
    "step = 0\n",
    "\n",
    "print(\"Step\",\"\\t\",\"Number\") #We use '\\t' to make a tab-separated table\n",
    "\n",
    "while n!=1:\n",
    "    print(step, \"\\t\", n)\n",
    "    \n",
    "    #We can check whether our number is even using the modulus operator\n",
    "    if n%2 ==0: \n",
    "        n = n/2\n",
    "    else:\n",
    "        n = 3*n+1\n",
    "    step = step+1 \n",
    "#The following else command tells us what to do when the while loop is finished.\n",
    "else:\n",
    "    print(\"We get 1 at Step\",step)"
   ]
  },
  {
   "cell_type": "code",
   "execution_count": null,
   "metadata": {},
   "outputs": [],
   "source": [
    "# In Python 3, when we divide an integer by another integer, the result is a float.\n",
    "# Here's a tweaked version of our Collatz conjecture code which makes sure n is an integer at every step.\n",
    "# Can you think of another way to get this output?\n",
    "\n",
    "n = 13 # enter your favorite number here!\n",
    "step = 0\n",
    "\n",
    "print(\"Step\",\"\\t\",\"Number\") # We use '\\t\\' to create tabs between our columns\n",
    "      \n",
    "while n!=1:\n",
    "    print(step, \"\\t\", n)\n",
    "    \n",
    "    #We can check whether our number is even using the modulus operator\n",
    "    if n%2 ==0: \n",
    "        n = int(n/2)\n",
    "    else:\n",
    "        n = 3*n+1\n",
    "    step = step+1 \n",
    "#The following else command tells us what to do when the while loop is finished.\n",
    "else:\n",
    "    print(\"We get 1 at Step\",step)"
   ]
  },
  {
   "cell_type": "code",
   "execution_count": null,
   "metadata": {
    "collapsed": true
   },
   "outputs": [],
   "source": []
  }
 ],
 "metadata": {
  "kernelspec": {
   "display_name": "Python 3",
   "language": "python",
   "name": "python3"
  },
  "language_info": {
   "codemirror_mode": {
    "name": "ipython",
    "version": 3
   },
   "file_extension": ".py",
   "mimetype": "text/x-python",
   "name": "python",
   "nbconvert_exporter": "python",
   "pygments_lexer": "ipython3",
   "version": "3.6.4"
  }
 },
 "nbformat": 4,
 "nbformat_minor": 1
}
