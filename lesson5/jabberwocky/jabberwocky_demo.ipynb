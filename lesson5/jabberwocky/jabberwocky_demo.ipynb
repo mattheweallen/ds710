{
 "cells": [
  {
   "cell_type": "markdown",
   "metadata": {},
   "source": [
    "# The Jabberwocky\n",
    "\n",
    "In this demo, we'll analyze Lewis Carroll's poem \"Jabberwocky\".  Make sure you have the file ```jabberwocky.txt``` in the same directory as this Python notebook before you run your code."
   ]
  },
  {
   "cell_type": "markdown",
   "metadata": {},
   "source": [
    "We'll use the ```with``` command when we open our text file to read it into memory.  This command ensures that the file will be closed when we're done with it, even if there's an error in our code.  If you don't use ```with```, you may have trouble opening files you're using in Python in other programs."
   ]
  },
  {
   "cell_type": "code",
   "execution_count": 1,
   "metadata": {},
   "outputs": [],
   "source": [
    "#Because the poem is fairly short, we can read all of it into memory with a single command\n",
    "\n",
    "with open(\"jabberwocky.txt\") as jab:\n",
    "    poem = jab.read()"
   ]
  },
  {
   "cell_type": "code",
   "execution_count": 2,
   "metadata": {},
   "outputs": [
    {
     "data": {
      "text/plain": [
       "str"
      ]
     },
     "execution_count": 2,
     "metadata": {},
     "output_type": "execute_result"
    }
   ],
   "source": [
    "#Is the variable poem a string?\n",
    "\n",
    "type(poem)"
   ]
  },
  {
   "cell_type": "code",
   "execution_count": 3,
   "metadata": {},
   "outputs": [
    {
     "data": {
      "text/plain": [
       "1018"
      ]
     },
     "execution_count": 3,
     "metadata": {},
     "output_type": "execute_result"
    }
   ],
   "source": [
    "# How many characters are in the poem?\n",
    "\n",
    "len(poem)"
   ]
  },
  {
   "cell_type": "code",
   "execution_count": 4,
   "metadata": {},
   "outputs": [
    {
     "name": "stdout",
     "output_type": "stream",
     "text": [
      "'TWAS BRILLIG, AND THE SLITHY TOVES\n",
      "      DID GYRE AND GIMBLE IN THE WABE:\n",
      "ALL MIMSY WERE THE BOROGOVES,\n",
      "      AND THE MOME RATHS OUTGRABE.\n",
      "\n",
      "\"BEWARE THE JABBERWOCK, MY SON!\n",
      "      THE JAWS THAT BITE, THE CLAWS THAT CATCH!\n",
      "BEWARE THE JUBJUB BIRD, AND SHUN\n",
      "      THE FRUMIOUS BANDERSNATCH!\"\n",
      "\n",
      "HE TOOK HIS VORPAL SWORD IN HAND;\n",
      "      LONG TIME THE MANXOME FOE HE SOUGHT--\n",
      "SO RESTED HE BY THE TUMTUM TREE\n",
      "      AND STOOD AWHILE IN THOUGHT.\n",
      "\n",
      "AND, AS IN UFFISH THOUGHT HE STOOD,\n",
      "      THE JABBERWOCK, WITH EYES OF FLAME,\n",
      "CAME WHIFFLING THROUGH THE TULGEY WOOD,\n",
      "      AND BURBLED AS IT CAME!\n",
      "\n",
      "ONE, TWO! ONE, TWO! AND THROUGH AND THROUGH\n",
      "      THE VORPAL BLADE WENT SNICKER-SNACK!\n",
      "HE LEFT IT DEAD, AND WITH ITS HEAD\n",
      "      HE WENT GALUMPHING BACK.\n",
      "\n",
      "\"AND HAST THOU SLAIN THE JABBERWOCK?\n",
      "      COME TO MY ARMS, MY BEAMISH BOY!\n",
      "O FRABJOUS DAY! CALLOOH! CALLAY!\"\n",
      "      HE CHORTLED IN HIS JOY.\n",
      "\n",
      "'TWAS BRILLIG, AND THE SLITHY TOVES\n",
      "      DID GYRE AND GIMBLE IN THE WABE:\n",
      "ALL MIMSY WERE THE BOROGOVES,\n",
      "      AND THE MOME RATHS OUTGRABE.\n"
     ]
    }
   ],
   "source": [
    "# Here's a version of the poem that is in block caps.\n",
    "\n",
    "poem_shout = poem.upper()\n",
    "print(poem_shout)"
   ]
  },
  {
   "cell_type": "code",
   "execution_count": 5,
   "metadata": {},
   "outputs": [],
   "source": [
    "# We remove the line breaks, replacing them by spaces\n",
    "\n",
    "poem = poem.replace(\"\\n\", \" \")"
   ]
  },
  {
   "cell_type": "code",
   "execution_count": 6,
   "metadata": {},
   "outputs": [
    {
     "name": "stdout",
     "output_type": "stream",
     "text": [
      "'Twas\n",
      "brillig,\n",
      "and\n",
      "the\n",
      "slithy\n",
      "toves\n",
      "\n",
      "\n",
      "\n",
      "\n",
      "\n",
      "\n",
      "Did\n",
      "gyre\n",
      "and\n",
      "gimble\n",
      "in\n",
      "the\n",
      "wabe:\n",
      "All\n"
     ]
    }
   ],
   "source": [
    "# We make a list of all of the words in the poem (assuming words are divided by spaces).\n",
    "\n",
    "wordlist = poem.split(\" \")\n",
    "\n",
    "# Print the first 20 words in our list\n",
    "for i in range(20):\n",
    "    print(wordlist[i])"
   ]
  },
  {
   "cell_type": "code",
   "execution_count": 7,
   "metadata": {},
   "outputs": [
    {
     "data": {
      "text/plain": [
       "256"
      ]
     },
     "execution_count": 7,
     "metadata": {},
     "output_type": "execute_result"
    }
   ],
   "source": [
    "len(wordlist)"
   ]
  },
  {
   "cell_type": "code",
   "execution_count": 8,
   "metadata": {},
   "outputs": [
    {
     "name": "stdout",
     "output_type": "stream",
     "text": [
      "59\n"
     ]
    }
   ],
   "source": [
    "#Let's count how many words in wordlist contain the letter 'A' (case-insensitive)\n",
    "\n",
    "a_count = 0\n",
    "for w in wordlist:\n",
    "    if w.lower().count('a') > 0:\n",
    "        a_count += 1\n",
    "\n",
    "print(a_count)\n",
    "    "
   ]
  },
  {
   "cell_type": "markdown",
   "metadata": {},
   "source": [
    "In order to analyze punctuation, we import the [```string``` module](https://docs.python.org/3.2/library/string.html)."
   ]
  },
  {
   "cell_type": "code",
   "execution_count": 9,
   "metadata": {},
   "outputs": [],
   "source": [
    "import string"
   ]
  },
  {
   "cell_type": "code",
   "execution_count": 10,
   "metadata": {},
   "outputs": [
    {
     "name": "stdout",
     "output_type": "stream",
     "text": [
      "!\"#$%&'()*+,-./:;<=>?@[\\]^_`{|}~\n"
     ]
    }
   ],
   "source": [
    "# The constant string.punctuation contains ASCII punctuation characters\n",
    "punct = string.punctuation\n",
    "print(punct)"
   ]
  },
  {
   "cell_type": "code",
   "execution_count": 11,
   "metadata": {},
   "outputs": [
    {
     "name": "stdout",
     "output_type": "stream",
     "text": [
      "{'!': 11, '\"': 4, '#': 0, '$': 0, '%': 0, '&': 0, \"'\": 2, '(': 0, ')': 0, '*': 0, '+': 0, ',': 16, '-': 3, '.': 5, '/': 0, ':': 2, ';': 1, '<': 0, '=': 0, '>': 0, '?': 1, '@': 0, '[': 0, '\\\\': 0, ']': 0, '^': 0, '_': 0, '`': 0, '{': 0, '|': 0, '}': 0, '~': 0}\n"
     ]
    }
   ],
   "source": [
    "# We build a dictionary which contains the counts of each punctuation mark in our poem\n",
    "\n",
    "# Start with an empty dictionary \n",
    "punct_dict = {}\n",
    "\n",
    "for c in punct:\n",
    "    punct_dict[c] = poem.count(c)\n",
    "\n",
    "print(punct_dict)"
   ]
  },
  {
   "cell_type": "code",
   "execution_count": 12,
   "metadata": {},
   "outputs": [
    {
     "data": {
      "text/plain": [
       "11"
      ]
     },
     "execution_count": 12,
     "metadata": {},
     "output_type": "execute_result"
    }
   ],
   "source": [
    "# Now our dictionary can tell us how many exclamation marks are in the poem\n",
    "\n",
    "punct_dict['!']"
   ]
  },
  {
   "cell_type": "code",
   "execution_count": 13,
   "metadata": {},
   "outputs": [
    {
     "name": "stdout",
     "output_type": "stream",
     "text": [
      "{'!': 11, '\"': 4, '#': 0, '$': 0, '%': 0, '&': 0, \"'\": 2, '(': 0, ')': 0, '*': 0, '+': 0, ',': 16, '-': 3, '.': 5, '/': 0, ':': 2, ';': 1, '<': 0, '=': 0, '>': 0, '?': 1, '@': 0, '[': 0, '\\\\': 0, ']': 0, '^': 0, '_': 0, '`': 0, '{': 0, '|': 0, '}': 0, '~': 0}\n"
     ]
    }
   ],
   "source": [
    "# Another way to complete the same task is to use a dict comprehension\n",
    "\n",
    "punct_dict_2 = {c:poem.count(c) for c in punct}\n",
    "print(punct_dict_2)"
   ]
  },
  {
   "cell_type": "markdown",
   "metadata": {},
   "source": [
    "Another way to count characters in the poem is to use the Counter functionality in the [```collections``` module](https://docs.python.org/3.3/library/collections.html)."
   ]
  },
  {
   "cell_type": "code",
   "execution_count": 14,
   "metadata": {},
   "outputs": [],
   "source": [
    "from collections import Counter"
   ]
  },
  {
   "cell_type": "code",
   "execution_count": 15,
   "metadata": {},
   "outputs": [
    {
     "name": "stdout",
     "output_type": "stream",
     "text": [
      "Counter({' ': 255, 'e': 80, 't': 60, 'h': 57, 'a': 52, 'o': 50, 's': 37, 'i': 37, 'n': 36, 'r': 33, 'd': 31, 'l': 29, 'b': 28, 'm': 26, 'w': 23, 'g': 21, 'u': 21, ',': 16, 'y': 16, 'c': 12, '!': 11, 'f': 10, 'A': 9, 'T': 7, 'k': 7, 'v': 6, '.': 5, '\"': 4, 'J': 4, 'j': 4, 'H': 4, 'C': 4, 'B': 3, 'p': 3, '-': 3, 'O': 3, \"'\": 2, 'D': 2, ':': 2, ';': 1, 'L': 1, 'x': 1, 'S': 1, '?': 1})\n"
     ]
    }
   ],
   "source": [
    "poem_charcount = Counter(poem)\n",
    "print(poem_charcount)"
   ]
  },
  {
   "cell_type": "code",
   "execution_count": 16,
   "metadata": {},
   "outputs": [
    {
     "data": {
      "text/plain": [
       "80"
      ]
     },
     "execution_count": 16,
     "metadata": {},
     "output_type": "execute_result"
    }
   ],
   "source": [
    "# How often does the character 'e' appear in this poem?\n",
    "\n",
    "poem_charcount['e']"
   ]
  },
  {
   "cell_type": "markdown",
   "metadata": {},
   "source": [
    "# Writing to files\n",
    "\n",
    "We often want to save data we have computed to a file."
   ]
  },
  {
   "cell_type": "code",
   "execution_count": 17,
   "metadata": {},
   "outputs": [],
   "source": [
    "# We open a new text file in \"write\" mode, and save the uppercase version of our poem to it.\n",
    "\n",
    "with open(\"jabberwocky_uppercase.txt\",\"w\") as jab_up:\n",
    "    jab_up.write(poem_shout)"
   ]
  },
  {
   "cell_type": "markdown",
   "metadata": {},
   "source": [
    "We'd like to save the information in our punctuation counts dictionary as a ```.csv``` file, because these files are easy to analyze with many different types of software.  One way to do this is to use the [```csv``` module](https://docs.python.org/3/library/csv.html). "
   ]
  },
  {
   "cell_type": "code",
   "execution_count": 18,
   "metadata": {},
   "outputs": [],
   "source": [
    "import csv"
   ]
  },
  {
   "cell_type": "code",
   "execution_count": 19,
   "metadata": {},
   "outputs": [],
   "source": [
    "# When we open the .csv file for writing, we specify that the newline character is the empty string.\n",
    "# This prevents us from creating empty lines when writing to the .csv file.\n",
    "\n",
    "with open(\"jabberwocky_punct.csv\", \"w\", newline=\"\") as jab_punct:\n",
    "    \n",
    "    writer = csv.writer(jab_punct)\n",
    "    # Our .csv file will have two columns, one for the dict keys and one for the dict values\n",
    "    writer.writerows(punct_dict.items())"
   ]
  },
  {
   "cell_type": "code",
   "execution_count": null,
   "metadata": {},
   "outputs": [],
   "source": []
  }
 ],
 "metadata": {
  "kernelspec": {
   "display_name": "Python 3",
   "language": "python",
   "name": "python3"
  },
  "language_info": {
   "codemirror_mode": {
    "name": "ipython",
    "version": 3
   },
   "file_extension": ".py",
   "mimetype": "text/x-python",
   "name": "python",
   "nbconvert_exporter": "python",
   "pygments_lexer": "ipython3",
   "version": "3.6.4"
  }
 },
 "nbformat": 4,
 "nbformat_minor": 1
}
