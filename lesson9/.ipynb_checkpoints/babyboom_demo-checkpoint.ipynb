{
 "cells": [
  {
   "cell_type": "markdown",
   "metadata": {},
   "source": [
    "# Baby Boom\n",
    "\n",
    "The file ```babyboom.csv``` contains information on all 44 babies born at one hospital in one 24-hour period.  It has 3 columns:  \n",
    "\n",
    "* Time = time of birth, in the format hhmm\n",
    "* Sex = the sex of the baby\n",
    "* Weight = the weight of the baby, in grams.\n",
    "\n",
    "Dataset: “Time of Birth, Sex, and Birth Weight of 44 Babies,\" submitted by Peter K. Dunn, University of Southern Queensland. Dataset obtained from the Journal of Statistics Education\n",
    "(http://www.amstat.org/publications/jse). Accessed 14 July 2015. \n",
    "Used by permission of author.\n",
    "Metadata:  http://www.amstat.org/publications/jse/datasets/babyboom.txt\n",
    "\n",
    "\n",
    "We'll use the [pandas library](http://pandas.pydata.org/) to work with this data set."
   ]
  },
  {
   "cell_type": "code",
   "execution_count": null,
   "metadata": {
    "collapsed": true
   },
   "outputs": [],
   "source": [
    "import pandas as pd\n",
    "import numpy as np"
   ]
  },
  {
   "cell_type": "markdown",
   "metadata": {},
   "source": [
    "The pandas library includes a data structure called a Data Frame, which is optimized for working with tabular data.  We read in babyboom.csv as a data frame."
   ]
  },
  {
   "cell_type": "code",
   "execution_count": null,
   "metadata": {},
   "outputs": [],
   "source": [
    "bb_df = pd.read_csv('babyboom.csv')\n",
    "bb_df"
   ]
  },
  {
   "cell_type": "markdown",
   "metadata": {},
   "source": [
    "Note that blank lines have been replaced by the symbol ```NaN```, which stands for \"not a number\".  This special value is a constant in the ```numpy``` package, and can be accessed as ```np.nan```."
   ]
  },
  {
   "cell_type": "markdown",
   "metadata": {},
   "source": [
    "We can use the ```describe()``` function for data frames to get a quick summary of the numerical information in the data frame.  The ```count``` function will ignore any ```NaN``` values."
   ]
  },
  {
   "cell_type": "code",
   "execution_count": null,
   "metadata": {},
   "outputs": [],
   "source": [
    "bb_df.describe()"
   ]
  },
  {
   "cell_type": "markdown",
   "metadata": {},
   "source": [
    "We notice that the data set includes at least one question mark.  We'd like to replace all question marks by ```NaN```.  To do so, we create a function, and then apply this function to every cell in the data frame using the ```applymap``` function for data frames."
   ]
  },
  {
   "cell_type": "code",
   "execution_count": null,
   "metadata": {
    "collapsed": true
   },
   "outputs": [],
   "source": [
    "def remove_question(s):\n",
    "    \"\"\" return np.nan if the argument is a question mark \"\"\"\n",
    "    if s == \"?\":\n",
    "        return np.nan\n",
    "    else:\n",
    "        return s"
   ]
  },
  {
   "cell_type": "code",
   "execution_count": null,
   "metadata": {
    "scrolled": true
   },
   "outputs": [],
   "source": [
    "bb_df = bb_df.applymap(remove_question)\n",
    "bb_df"
   ]
  },
  {
   "cell_type": "markdown",
   "metadata": {},
   "source": [
    "We notice that the Sex column contains many different types of data.  We'd like to standardize this data as M or F.  The first step is to get a list of all of the different values in the column.\n",
    "\n",
    "We access this column using its text label.  Each column of a pandas data frame is a ```Series``` object, and we can use the built-in ```unique()``` function for series."
   ]
  },
  {
   "cell_type": "code",
   "execution_count": null,
   "metadata": {},
   "outputs": [],
   "source": [
    "bb_df['Sex'].unique()"
   ]
  },
  {
   "cell_type": "markdown",
   "metadata": {},
   "source": [
    "We want to map each of the values from the Sex column to \"M\" or \"F\".  We could do this using lots of if-then statements, but because we're describing a correspondence, it makes sense to create a dictionary."
   ]
  },
  {
   "cell_type": "code",
   "execution_count": null,
   "metadata": {},
   "outputs": [],
   "source": [
    "sex_dict = { 'F':'F', 'Male':'M', 'boy':'M', 'M':'M', 'girl':'F', 'not recorded':np.nan, 'female':'F', np.nan:np.nan}"
   ]
  },
  {
   "cell_type": "code",
   "execution_count": null,
   "metadata": {},
   "outputs": [],
   "source": [
    "# We can use the get command to obtain the value for a specified key\n",
    "sex_dict.get(\"girl\")"
   ]
  },
  {
   "cell_type": "code",
   "execution_count": null,
   "metadata": {},
   "outputs": [],
   "source": [
    "# We create a lambda function which calls our dictionary, and map it to every element of the Sex column\n",
    "# This returns a Series object\n",
    "bb_df['Sex'].map(lambda s: sex_dict.get(s))"
   ]
  },
  {
   "cell_type": "code",
   "execution_count": null,
   "metadata": {},
   "outputs": [],
   "source": [
    "# Of course, what we really want to do is REPLACE the Sex column in our data frame\n",
    "\n",
    "bb_df['Sex'] = bb_df['Sex'].map(lambda s: sex_dict.get(s))\n",
    "bb_df"
   ]
  },
  {
   "cell_type": "markdown",
   "metadata": {},
   "source": [
    "Now we can group our data frame by M or F, and compare descriptive statistics for each group."
   ]
  },
  {
   "cell_type": "code",
   "execution_count": null,
   "metadata": {},
   "outputs": [],
   "source": [
    "bb_group = bb_df.groupby('Sex')\n",
    "bb_group.describe()"
   ]
  },
  {
   "cell_type": "markdown",
   "metadata": {},
   "source": [
    "We've demonstrated using the ```map``` command on Series to transform columns of our data frame.  We can use the ```apply``` command to do operations on rows."
   ]
  },
  {
   "cell_type": "code",
   "execution_count": null,
   "metadata": {
    "collapsed": true
   },
   "outputs": [],
   "source": [
    "# A function to apply to a row of our data frame\n",
    "\n",
    "def convert_to_lb(row):\n",
    "    \"\"\" convert weight in grams to weight in pounds\"\"\"\n",
    "    return row['Weight']/453.59237"
   ]
  },
  {
   "cell_type": "code",
   "execution_count": null,
   "metadata": {},
   "outputs": [],
   "source": [
    "# Specifying axis=1 applies the function to each row; the default would apply the function to each column\n",
    "\n",
    "bb_df['Weight in lb'] = bb_df.apply(convert_to_lb, axis=1)\n",
    "bb_df"
   ]
  },
  {
   "cell_type": "markdown",
   "metadata": {},
   "source": [
    "## Saving our data\n",
    "\n",
    "We'd like to save our data for possible analysis in R."
   ]
  },
  {
   "cell_type": "markdown",
   "metadata": {},
   "source": [
    "Because R won't recognize the ```NaN``` symbol, we replace null data with an empty string."
   ]
  },
  {
   "cell_type": "code",
   "execution_count": null,
   "metadata": {},
   "outputs": [],
   "source": [
    "# We use the inplace flag to change the original data frame, rather than creating a new one\n",
    "bb_df.fillna(\"\", inplace=True)\n",
    "bb_df"
   ]
  },
  {
   "cell_type": "code",
   "execution_count": null,
   "metadata": {
    "collapsed": true
   },
   "outputs": [],
   "source": [
    "# Save the data frame to a .csv file\n",
    "# Specifying index=False prevents us from writing a column of row numbers\n",
    "\n",
    "bb_df.to_csv(\"babyboom_clean.csv\", index=False)"
   ]
  },
  {
   "cell_type": "code",
   "execution_count": null,
   "metadata": {
    "collapsed": true
   },
   "outputs": [],
   "source": []
  }
 ],
 "metadata": {
  "kernelspec": {
   "display_name": "Python 3",
   "language": "python",
   "name": "python3"
  },
  "language_info": {
   "codemirror_mode": {
    "name": "ipython",
    "version": 3
   },
   "file_extension": ".py",
   "mimetype": "text/x-python",
   "name": "python",
   "nbconvert_exporter": "python",
   "pygments_lexer": "ipython3",
   "version": "3.6.4"
  }
 },
 "nbformat": 4,
 "nbformat_minor": 1
}
